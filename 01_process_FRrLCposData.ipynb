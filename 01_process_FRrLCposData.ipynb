{
 "cells": [
  {
   "cell_type": "code",
   "execution_count": null,
   "metadata": {
    "ExecuteTime": {
     "end_time": "2022-11-21T19:19:53.623286Z",
     "start_time": "2022-11-21T19:19:51.558148Z"
    }
   },
   "outputs": [],
   "source": [
    "import pandas as pd\n",
    "pd.set_option('display.max_colwidth', None)\n",
    "import scipy.stats\n",
    "import numpy as np\n",
    "import statsmodels.stats.multitest\n",
    "import datetime\n",
    "import time\n",
    "import seaborn as sns\n",
    "import matplotlib.pyplot as plt\n",
    "from tqdm import tqdm\n",
    "tqdm.pandas()\n",
    "import itertools\n",
    "import random"
   ]
  },
  {
   "cell_type": "code",
   "execution_count": null,
   "metadata": {
    "ExecuteTime": {
     "end_time": "2022-11-21T19:25:18.993638Z",
     "start_time": "2022-11-21T19:20:07.807147Z"
    }
   },
   "outputs": [],
   "source": [
    "# load mtb data\n",
    "mtb_pos_df_full = pd.read_csv(r'FR_rLC_pos_dedupnormtrim.csv')\n",
    "mtb_pos_df_full.set_index('PLASMA_ID', inplace=True)\n",
    "mtb_pos_df_full.shape"
   ]
  },
  {
   "cell_type": "code",
   "execution_count": null,
   "metadata": {
    "ExecuteTime": {
     "end_time": "2022-11-22T06:12:14.850199Z",
     "start_time": "2022-11-22T06:12:14.158767Z"
    }
   },
   "outputs": [],
   "source": [
    "# load mtb data\n",
    "numb_samples = mtb_pos_df_full.shape[0]\n",
    "numb_mtbs = mtb_pos_df_full.shape[1]\n",
    "samplefrac_missing = mtb_pos_df_full.isna().sum() / numb_samples\n",
    "frac_missing_dict = dict(zip(samplefrac_missing.index, samplefrac_missing.values))"
   ]
  },
  {
   "cell_type": "code",
   "execution_count": null,
   "metadata": {
    "ExecuteTime": {
     "end_time": "2025-04-20T01:14:42.373109Z",
     "start_time": "2025-04-20T01:14:42.351934Z"
    }
   },
   "outputs": [],
   "source": [
    "def filter_MtbsMissingInManySamples(mtb_df, frac_missing_threshold=0.9, zoom=0.01):\n",
    "    \"\"\"\n",
    "    remove pks that are missing in frac_missing_threshold or greater fraction\n",
    "    rows are samples, columns are features (mtbs)\n",
    "    ok if has sample id etc as columns, as long as those do not contain missing values\n",
    "    zoom paramater is what fraction of all mtbs to zoom in on y-axis of fraction of samples missing distribution\n",
    "    \"\"\"\n",
    "    numb_samples = mtb_df.shape[0]\n",
    "    numb_mtbs = mtb_df.shape[1]\n",
    "    \n",
    "    samplefrac_missing = mtb_df.isna().sum() / numb_samples\n",
    "    \n",
    "    # plot\n",
    "    fig, axes = plt.subplots(ncols=2, nrows=1, figsize=(15,5))\n",
    "    axes[0].set_title('Full Distribution', pad=25, size=26)\n",
    "    axes[1].set_title('Zoomed', pad=25, size=26)\n",
    "    sns.histplot(samplefrac_missing, ax=axes[0], binwidth=0.05)\n",
    "    sns.histplot(samplefrac_missing, ax=axes[1], binwidth=0.01)\n",
    "    axes[1].set_ylim(0, zoom*numb_mtbs)\n",
    "    axes[0].set_ylabel('Number of Metabolites', labelpad=25, size=22)\n",
    "    axes[1].set_ylabel('')\n",
    "    axes[0].set_xlabel(\"Fraction of Samples in which\\nMetabolites are Missing\", labelpad=15, size=22)\n",
    "    axes[1].set_xlabel(\"Fraction of Samples in which\\nMetabolites are Missing\", labelpad=15, size=22)\n",
    "    axes[0].axvline(x=frac_missing_threshold, linestyle='--')\n",
    "    axes[1].axvline(x=frac_missing_threshold, linestyle='--')\n",
    "    plt.show()\n",
    "    \n",
    "    mtbs_keepornot = samplefrac_missing <= frac_missing_threshold \n",
    "    mtbs_to_keep = mtbs_keepornot[mtbs_keepornot].index.to_list() # includes sample ID if that's a column too\n",
    "    \n",
    "    filt_mtb_df = mtb_df.loc[:, mtbs_to_keep]\n",
    "    \n",
    "    print('kept {} out of {} mtbs ({}%)'.format(filt_mtb_df.shape[1], numb_mtbs, \n",
    "                                                   round(100*filt_mtb_df.shape[1]/numb_mtbs, 2)))\n",
    "    \n",
    "    return filt_mtb_df"
   ]
  },
  {
   "cell_type": "code",
   "execution_count": null,
   "metadata": {
    "ExecuteTime": {
     "end_time": "2022-11-21T19:26:44.257274Z",
     "start_time": "2022-11-21T19:26:41.926056Z"
    }
   },
   "outputs": [],
   "source": [
    "# remove pks that are missing in many samples (in >=50% of samples)\n",
    "mtb_pos_df_inSampFilt = ufunc.filter_MtbsMissingInManySamples(mtb_df=mtb_pos_df_full, frac_missing_threshold=0.5)"
   ]
  },
  {
   "cell_type": "code",
   "execution_count": null,
   "metadata": {},
   "outputs": [],
   "source": [
    "def impute_MissingValues(df, seed=None, min_divider=6):\n",
    "    \"\"\"\n",
    "    rows are samples, columns are features (mtbs)\n",
    "    ok if has sample id etc as columns, as long as those do not contain missing values\n",
    "    set seed if want filled in values to be reproducible\n",
    "    \"\"\"\n",
    "    df_copy = df.copy()\n",
    "    for c in tqdm(df_copy.columns):\n",
    "        missing_idx = df_copy[c][df_copy[c].isna()].index\n",
    "        numb_missing_vals = len(missing_idx)\n",
    "        if numb_missing_vals>0:\n",
    "            m = min(df_copy[c][df_copy[c].notna()])\n",
    "            np.random.seed(seed)\n",
    "            random_val_vec = np.random.uniform(low=m/min_divider, high=m, size=numb_missing_vals)\n",
    "            df_copy.loc[missing_idx, c] = random_val_vec  \n",
    "    return(df_copy)"
   ]
  },
  {
   "cell_type": "code",
   "execution_count": null,
   "metadata": {
    "ExecuteTime": {
     "end_time": "2022-11-21T19:27:47.398096Z",
     "start_time": "2022-11-21T19:26:57.510834Z"
    }
   },
   "outputs": [],
   "source": [
    "# impute missing values\n",
    "mtb_pos_df_inSampFiltImp = ufunc.impute_MissingValues(mtb_pos_df_inSampFilt, seed=5)"
   ]
  },
  {
   "cell_type": "code",
   "execution_count": null,
   "metadata": {
    "ExecuteTime": {
     "end_time": "2022-11-21T20:14:40.764785Z",
     "start_time": "2022-11-21T20:07:59.661674Z"
    }
   },
   "outputs": [],
   "source": [
    "mtb_pos_df_inSampFiltImp.to_csv('FRrLCposDedupnormtrim_inSampFiltAndImputed.csv')"
   ]
  }
 ],
 "metadata": {
  "kernelspec": {
   "display_name": "Python 3",
   "language": "python",
   "name": "python3"
  },
  "language_info": {
   "codemirror_mode": {
    "name": "ipython",
    "version": 3
   },
   "file_extension": ".py",
   "mimetype": "text/x-python",
   "name": "python",
   "nbconvert_exporter": "python",
   "pygments_lexer": "ipython3",
   "version": "3.7.2"
  },
  "toc": {
   "base_numbering": 1,
   "nav_menu": {},
   "number_sections": true,
   "sideBar": true,
   "skip_h1_title": false,
   "title_cell": "Table of Contents",
   "title_sidebar": "Contents",
   "toc_cell": false,
   "toc_position": {
    "height": "calc(100% - 180px)",
    "left": "10px",
    "top": "150px",
    "width": "329.875px"
   },
   "toc_section_display": true,
   "toc_window_display": true
  }
 },
 "nbformat": 4,
 "nbformat_minor": 5
}
